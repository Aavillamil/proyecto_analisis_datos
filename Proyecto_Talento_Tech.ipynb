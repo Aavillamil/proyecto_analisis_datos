{
 "cells": [
  {
   "cell_type": "code",
   "execution_count": 2,
   "id": "initial_id",
   "metadata": {
    "jupyter": {
     "is_executing": true
    }
   },
   "outputs": [],
   "source": [
    "import  pandas as pd"
   ]
  },
  {
   "cell_type": "code",
   "execution_count": 3,
   "id": "f0df1baa-2351-46a4-9f0a-11847204d8f4",
   "metadata": {},
   "outputs": [],
   "source": [
    "import matplotlib.pyplot as plt"
   ]
  },
  {
   "cell_type": "code",
   "execution_count": 4,
   "id": "e93433b1-8dcd-4834-80eb-31bb9c6a6015",
   "metadata": {},
   "outputs": [],
   "source": [
    "import plotly.express as px"
   ]
  },
  {
   "cell_type": "code",
   "execution_count": 5,
   "id": "eb0fb4fc-404e-4dee-877c-e9ff17ec7a6a",
   "metadata": {},
   "outputs": [],
   "source": [
    "import plotly.graph_objs as go"
   ]
  },
  {
   "cell_type": "code",
   "execution_count": 6,
   "id": "8f2e78a4-454e-4bcc-bf06-bee60dc4c062",
   "metadata": {},
   "outputs": [],
   "source": [
    "data=pd.read_csv('C://Users//angel//OneDrive//Escritorio//Cobertura_tecnologica_departamento.csv')"
   ]
  },
  {
   "cell_type": "code",
   "execution_count": 8,
   "id": "35fd7c9c-5e2b-45ec-8d6c-7acd7ef9ae08",
   "metadata": {},
   "outputs": [
    {
     "name": "stdout",
     "output_type": "stream",
     "text": [
      "                 AÑO      TRIMESTRE  COD DEPARTAMENTO  COD MUNICIPIO  \\\n",
      "count  407281.000000  407281.000000     407281.000000  407230.000000   \n",
      "mean     2019.087880       2.502798         39.142754   39548.582182   \n",
      "std         2.305594       1.121758         25.736460   25713.643191   \n",
      "min      2015.000000       1.000000          5.000000    5001.000000   \n",
      "25%      2017.000000       1.000000         18.000000   18150.000000   \n",
      "50%      2019.000000       3.000000         27.000000   27205.000000   \n",
      "75%      2021.000000       4.000000         66.000000   66456.000000   \n",
      "max      2023.000000       4.000000         99.000000   99773.000000   \n",
      "\n",
      "       COD CENTRO POBLADO  \n",
      "count        4.072660e+05  \n",
      "mean         3.401460e+07  \n",
      "std          2.752303e+07  \n",
      "min          0.000000e+00  \n",
      "25%          1.314000e+07  \n",
      "50%          2.517500e+07  \n",
      "75%          5.440500e+07  \n",
      "max          9.977303e+07  \n"
     ]
    }
   ],
   "source": [
    "print(data.describe())"
   ]
  },
  {
   "cell_type": "code",
   "execution_count": null,
   "id": "3620410a-7655-4d6b-ad02-95e13b4fa2ef",
   "metadata": {},
   "outputs": [],
   "source": []
  }
 ],
 "metadata": {
  "kernelspec": {
   "display_name": "Python 3 (ipykernel)",
   "language": "python",
   "name": "python3"
  },
  "language_info": {
   "codemirror_mode": {
    "name": "ipython",
    "version": 3
   },
   "file_extension": ".py",
   "mimetype": "text/x-python",
   "name": "python",
   "nbconvert_exporter": "python",
   "pygments_lexer": "ipython3",
   "version": "3.11.5"
  }
 },
 "nbformat": 4,
 "nbformat_minor": 5
}
